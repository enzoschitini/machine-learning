{
 "cells": [
  {
   "cell_type": "markdown",
   "metadata": {},
   "source": [
    "# Introduzione a PyCaret\n",
    "\n",
    "PyCaret è una libreria open-source per il machine learning che fornisce un ambiente integrato e facile da usare per il preprocessing, la modellazione, la valutazione e l'ottimizzazione di modelli di machine learning. Grazie alla sua semplicità, PyCaret consente agli utenti di creare modelli complessi con poche righe di codice, rendendolo ideale sia per i principianti che per gli esperti.\n",
    "\n",
    "## Perché usare PyCaret?\n",
    "\n",
    "- **Efficienza**: Permette di sperimentare con molteplici algoritmi in modo rapido.\n",
    "- **Semplicità**: Richiede una curva di apprendimento minima rispetto ad altre librerie di machine learning.\n",
    "- **Integrazione**: Funziona bene con strumenti di visualizzazione e di gestione dei dati come Pandas, Matplotlib e Seaborn.\n",
    "- **Automazione**: Automatizza molte delle fasi più complesse, come la selezione delle variabili, la ricerca dei parametri e la creazione di pipeline.\n",
    "\n",
    "## Installazione\n",
    "\n",
    "Per installare PyCaret, usa il seguente comando:\n",
    "\n",
    "```bash\n",
    "pip install pycaret"
   ]
  },
  {
   "cell_type": "markdown",
   "metadata": {},
   "source": [
    "Per utilizzare funzionalità specifiche come il deep learning o la gestione di dataset di grandi dimensioni, potresti dover installare ulteriori dipendenze.\n",
    "\n",
    "## Workflow di base con PyCaret\n",
    "\n",
    "### 1. Importare la libreria e caricare i dati"
   ]
  },
  {
   "cell_type": "code",
   "execution_count": null,
   "metadata": {},
   "outputs": [],
   "source": [
    "from pycaret.classification import *\n",
    "import pandas as pd\n",
    "\n",
    "data = pd.read_csv(\"dataset.csv\")"
   ]
  },
  {
   "cell_type": "markdown",
   "metadata": {},
   "source": [
    "### 2. Inizializzare l'ambiente\n",
    "\n",
    "Usa la funzione `setup` per preparare i dati per la modellazione. Questa funzione esegue operazioni come:\n",
    "\n",
    "- Trattamento dei valori nulli\n",
    "- Creazione di variabili dummy\n",
    "- Normalizzazione e scaling"
   ]
  },
  {
   "cell_type": "code",
   "execution_count": null,
   "metadata": {},
   "outputs": [],
   "source": [
    "clf1 = setup(data, target='nome_colonna_target', session_id=123)"
   ]
  },
  {
   "cell_type": "markdown",
   "metadata": {},
   "source": [
    "### 3. Confrontare i modelli\n",
    "\n",
    "La funzione `compare_models` confronta automaticamente i modelli disponibili e restituisce il migliore in base a metriche predefinite."
   ]
  },
  {
   "cell_type": "code",
   "execution_count": null,
   "metadata": {},
   "outputs": [],
   "source": [
    "best_model = compare_models()"
   ]
  },
  {
   "cell_type": "markdown",
   "metadata": {},
   "source": [
    "### 4. Creare e ottimizzare un modello\n",
    "\n",
    "Puoi creare un modello specifico con il comando `create_model` e ottimizzarlo con `tune_model`."
   ]
  },
  {
   "cell_type": "code",
   "execution_count": null,
   "metadata": {},
   "outputs": [],
   "source": [
    "dt_model = create_model('dt')  # Decision Tree\n",
    "optimized_dt = tune_model(dt_model)"
   ]
  },
  {
   "cell_type": "markdown",
   "metadata": {},
   "source": [
    "### 5. Valutare il modello\n",
    "\n",
    "Puoi visualizzare grafici e metriche con `evaluate_model`."
   ]
  },
  {
   "cell_type": "code",
   "execution_count": null,
   "metadata": {},
   "outputs": [],
   "source": [
    "evaluate_model(optimized_dt)"
   ]
  },
  {
   "cell_type": "markdown",
   "metadata": {},
   "source": [
    "### 6. Salvare il modello\n",
    "\n",
    "Puoi salvare il modello per un utilizzo futuro con:"
   ]
  },
  {
   "cell_type": "code",
   "execution_count": null,
   "metadata": {},
   "outputs": [],
   "source": [
    "save_model(optimized_dt, 'optimized_decision_tree')"
   ]
  },
  {
   "cell_type": "markdown",
   "metadata": {},
   "source": [
    "## Moduli principali\n",
    "\n",
    "PyCaret è organizzato in diversi moduli, ciascuno dedicato a un tipo specifico di problema:\n",
    "\n",
    "- `pycaret.classification`: Per problemi di classificazione.\n",
    "- `pycaret.regression`: Per problemi di regressione.\n",
    "- `pycaret.clustering`: Per il clustering.\n",
    "- `pycaret.anomaly`: Per la rilevazione di anomalie.\n",
    "\n",
    "## Esempio pratico: Classificazione"
   ]
  },
  {
   "cell_type": "code",
   "execution_count": null,
   "metadata": {},
   "outputs": [],
   "source": [
    "from pycaret.classification import *\n",
    "\n",
    "# Caricamento dei dati\n",
    "data = pd.read_csv('credit_data.csv')\n",
    "\n",
    "# Configurazione\n",
    "clf1 = setup(data, target='default', session_id=123)\n",
    "\n",
    "# Confronto tra modelli\n",
    "best_model = compare_models()\n",
    "\n",
    "# Creazione di un modello\n",
    "rf_model = create_model('rf')\n",
    "\n",
    "# Ottimizzazione\n",
    "optimized_rf = tune_model(rf_model)\n",
    "\n",
    "# Valutazione\n",
    "evaluate_model(optimized_rf)\n",
    "\n",
    "# Salvare il modello\n",
    "save_model(optimized_rf, 'final_rf_model')"
   ]
  },
  {
   "cell_type": "markdown",
   "metadata": {},
   "source": [
    "## Conclusioni\n",
    "\n",
    "PyCaret semplifica notevolmente il processo di sviluppo di modelli di machine learning, rendendolo accessibile a un pubblico più ampio. Grazie alla sua natura modulare, è possibile adattare PyCaret a una vasta gamma di applicazioni, rendendolo uno strumento prezioso per i data scientist e gli analisti."
   ]
  }
 ],
 "metadata": {
  "kernelspec": {
   "display_name": "Python 3",
   "language": "python",
   "name": "python3"
  },
  "language_info": {
   "codemirror_mode": {
    "name": "ipython",
    "version": 3
   },
   "file_extension": ".py",
   "mimetype": "text/x-python",
   "name": "python",
   "nbconvert_exporter": "python",
   "pygments_lexer": "ipython3",
   "version": "3.12.6"
  }
 },
 "nbformat": 4,
 "nbformat_minor": 2
}
