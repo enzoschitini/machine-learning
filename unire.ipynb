{
 "cells": [
  {
   "cell_type": "code",
   "execution_count": 8,
   "metadata": {},
   "outputs": [],
   "source": [
    "import nbformat\n",
    "\n",
    "def unisci_notebook(notebook1, notebook2, output_notebook):\n",
    "  \"\"\"\n",
    "  Unisce due notebook Jupyter.\n",
    "\n",
    "  Args:\n",
    "    notebook1: Percorso del primo notebook.\n",
    "    notebook2: Percorso del secondo notebook.\n",
    "    output_notebook: Percorso del notebook di output.\n",
    "  \"\"\"\n",
    "\n",
    "  # Carica i notebook\n",
    "  with open(notebook1, 'r', encoding='utf-8') as f:\n",
    "    nb1 = nbformat.read(f, as_version=4)\n",
    "  with open(notebook2, 'r', encoding='utf-8') as f:\n",
    "    nb2 = nbformat.read(f, as_version=4)\n",
    "\n",
    "  # Unisci i notebook\n",
    "  nb1.cells.extend(nb2.cells)\n",
    "\n",
    "  # Salva il notebook unito\n",
    "  with open(output_notebook, 'w', encoding='utf-8') as f:\n",
    "    nbformat.write(nb1, f)\n",
    "\n",
    "# Esempi di utilizzo\n",
    "notebook1 = \"notebook_combinato.ipynb\"\n",
    "notebook2 = \"9. Recursos para Aprender Mais.ipynb\"\n",
    "output_notebook = \"notebook_combinato.ipynb\"\n",
    "\n",
    "unisci_notebook(notebook1, notebook2, output_notebook)\n",
    "\n",
    "# Download (adattare a seconda dell'ambiente)\n",
    "# Per esempio, in Google Colab puoi usare:\n",
    "# from google.colab import files\n",
    "# files.download(output_notebook)"
   ]
  }
 ],
 "metadata": {
  "kernelspec": {
   "display_name": "Python 3",
   "language": "python",
   "name": "python3"
  },
  "language_info": {
   "codemirror_mode": {
    "name": "ipython",
    "version": 3
   },
   "file_extension": ".py",
   "mimetype": "text/x-python",
   "name": "python",
   "nbconvert_exporter": "python",
   "pygments_lexer": "ipython3",
   "version": "3.12.6"
  }
 },
 "nbformat": 4,
 "nbformat_minor": 2
}
