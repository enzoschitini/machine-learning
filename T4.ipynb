{
 "cells": [
  {
   "cell_type": "markdown",
   "metadata": {},
   "source": [
    "## **4. Implementação Prática**\n",
    "\n",
    "Aqui vamos explorar como implementar o PCA em Python, desde o pré-processamento dos dados até a visualização dos resultados. Vamos detalhar o processo passo a passo, utilizando ferramentas comuns na análise de dados.\n",
    "\n",
    "---\n",
    "\n",
    "### **4.1 Pré-processamento de Dados**\n",
    "\n",
    "O pré-processamento adequado dos dados é uma etapa crucial para garantir que o PCA seja realizado de maneira eficaz.\n",
    "\n",
    "### **Por que normalizar os dados antes do PCA?**\n",
    "\n",
    "- **Escala das variáveis:** O PCA é sensível às escalas das variáveis. Variáveis com magnitudes diferentes podem influenciar de maneira desproporcional os resultados. Por exemplo, se uma variável varia entre 0 e 1 e outra entre 1.000 e 10.000, a segunda variável pode dominar a análise.\n",
    "- **Objetivo da normalização:** Tornar as variáveis comparáveis, para que todas tenham o mesmo peso na análise. Normalizar significa centralizar as variáveis em torno de zero e escalá-las para que todas tenham o mesmo desvio padrão, geralmente igual a 1.\n",
    "\n",
    "### **Como tratar valores ausentes e outliers?**\n",
    "\n",
    "- **Valores ausentes:** Os dados faltantes podem ser preenchidos usando métodos como média, mediana ou interpolação, ou então removendo as observações incompletas. A escolha depende do impacto que a ausência de dados pode ter na análise.\n",
    "- **Outliers:** Outliers podem distorcer os resultados do PCA, já que eles afetam a variação dos dados. Algumas técnicas para tratá-los incluem:\n",
    "    - Remoção de outliers baseados em z-score (valores com z-score > 3 podem ser considerados outliers).\n",
    "    - Transformações de dados, como logaritmos ou escalamento robusto.\n",
    "\n",
    "---\n",
    "\n",
    "### **4.2 PCA na Prática**\n",
    "\n",
    "Aqui, vamos implementar o PCA em Python usando algumas das bibliotecas mais populares: **NumPy**, **pandas** e **scikit-learn**.\n",
    "\n",
    "### **Passo a Passo da Implementação**"
   ]
  },
  {
   "cell_type": "markdown",
   "metadata": {},
   "source": [
    "1. **Importação das Bibliotecas**"
   ]
  },
  {
   "cell_type": "code",
   "execution_count": 1,
   "metadata": {},
   "outputs": [],
   "source": [
    "import numpy as np\n",
    "import pandas as pd\n",
    "from sklearn.decomposition import PCA\n",
    "from sklearn.preprocessing import StandardScaler"
   ]
  },
  {
   "cell_type": "markdown",
   "metadata": {},
   "source": [
    "2. **Carregamento do Dataset**\n",
    "Vamos usar um dataset simples, como o **Iris dataset**, que é frequentemente utilizado em exemplos de aprendizado de máquina."
   ]
  },
  {
   "cell_type": "code",
   "execution_count": null,
   "metadata": {},
   "outputs": [],
   "source": [
    "from sklearn.datasets import load_iris\n",
    "iris = load_iris()\n",
    "X = iris.data  # Matriz de características"
   ]
  },
  {
   "cell_type": "markdown",
   "metadata": {},
   "source": [
    "3. **Normalização dos Dados**\n",
    "O PCA requer que os dados sejam normalizados antes da análise:"
   ]
  },
  {
   "cell_type": "code",
   "execution_count": null,
   "metadata": {},
   "outputs": [],
   "source": [
    "scaler = StandardScaler()\n",
    "X_scaled = scaler.fit_transform(X)"
   ]
  },
  {
   "cell_type": "markdown",
   "metadata": {},
   "source": [
    "4. **Aplicando o PCA**\n",
    "Vamos aplicar o PCA e reduzir os dados para 2 dimensões:"
   ]
  },
  {
   "cell_type": "code",
   "execution_count": null,
   "metadata": {},
   "outputs": [],
   "source": [
    "pca = PCA(n_components=2)\n",
    "X_pca = pca.fit_transform(X_scaled)"
   ]
  },
  {
   "cell_type": "markdown",
   "metadata": {},
   "source": [
    "5. **Analisando os Resultados**\n",
    "A variância explicada por cada componente principal pode ser acessada através de:"
   ]
  },
  {
   "cell_type": "code",
   "execution_count": null,
   "metadata": {},
   "outputs": [],
   "source": [
    "print(\"Variância explicada por componente:\", pca.explained_variance_ratio_)"
   ]
  },
  {
   "cell_type": "markdown",
   "metadata": {},
   "source": [
    "6. **Exemplo Completo em Python**\n",
    "Aqui está o código completo para carregar o dataset, aplicar o PCA e visualizar os resultados:"
   ]
  },
  {
   "cell_type": "code",
   "execution_count": null,
   "metadata": {},
   "outputs": [],
   "source": [
    "import matplotlib.pyplot as plt\n",
    "\n",
    "# Visualizando os componentes principais\n",
    "plt.scatter(X_pca[:, 0], X_pca[:, 1], c=iris.target, cmap='viridis')\n",
    "plt.xlabel('Componente Principal 1')\n",
    "plt.ylabel('Componente Principal 2')\n",
    "plt.title('PCA - Iris Dataset')\n",
    "plt.show()"
   ]
  },
  {
   "cell_type": "markdown",
   "metadata": {},
   "source": [
    "### **4.3 Visualização dos Resultados**\n",
    "\n",
    "Após realizar o PCA, é importante visualizar os resultados para entender melhor o comportamento dos dados e a importância dos componentes principais.\n",
    "\n",
    "### **Gráficos de dispersão dos componentes principais**\n",
    "\n",
    "- A visualização dos componentes principais em um gráfico de dispersão ajuda a entender como os dados são distribuídos nas novas dimensões. No exemplo acima, visualizamos as duas primeiras componentes principais do dataset Iris.\n",
    "\n",
    "### **Scree plot (gráfico de variância explicada)**\n",
    "\n",
    "- O **scree plot** é um gráfico que mostra a variância explicada por cada componente. Ele é útil para decidir quantos componentes principais manter:"
   ]
  },
  {
   "cell_type": "code",
   "execution_count": null,
   "metadata": {},
   "outputs": [],
   "source": [
    "plt.plot(range(1, len(pca.explained_variance_ratio_) + 1), pca.explained_variance_ratio_, marker='o')\n",
    "plt.xlabel('Número de Componentes')\n",
    "plt.ylabel('Variância Explicada')\n",
    "plt.title('Scree Plot')\n",
    "plt.show()"
   ]
  },
  {
   "cell_type": "markdown",
   "metadata": {},
   "source": [
    "O **scree plot** geralmente apresenta uma queda abrupta na variância explicada após alguns componentes. Você pode usar esse gráfico para decidir quantos componentes principais incluir na análise, com base na quantidade de variância que deseja preservar."
   ]
  }
 ],
 "metadata": {
  "kernelspec": {
   "display_name": "Python 3",
   "language": "python",
   "name": "python3"
  },
  "language_info": {
   "codemirror_mode": {
    "name": "ipython",
    "version": 3
   },
   "file_extension": ".py",
   "mimetype": "text/x-python",
   "name": "python",
   "nbconvert_exporter": "python",
   "pygments_lexer": "ipython3",
   "version": "3.12.6"
  }
 },
 "nbformat": 4,
 "nbformat_minor": 2
}
